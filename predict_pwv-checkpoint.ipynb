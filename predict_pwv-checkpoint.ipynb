{
 "cells": [
  {
   "cell_type": "code",
   "execution_count": 87,
   "metadata": {
    "collapsed": false
   },
   "outputs": [],
   "source": [
    "import os.path\n",
    "import numpy as np\n",
    "import matplotlib.pyplot as plt\n",
    "import astropy\n",
    "from astropy.time import Time \n",
    "from astropy.time import TimeISOT\n",
    "%matplotlib inline"
   ]
  },
  {
   "cell_type": "code",
   "execution_count": 6,
   "metadata": {
    "collapsed": true
   },
   "outputs": [],
   "source": [
    "##gather data\n",
    "\n",
    "#2014\n",
    "file_sa48_2014 = \"SA48nrt_2014.plot\"\n",
    "file_sa46_2014 = \"SA46nrt_2014.plot\"\n",
    "file_p014_2014 = \"P014nrt_2014.plot\"\n",
    "#2015\n",
    "file_kitt_2015 = \"KITTnrt_2015.plot\"\n",
    "file_sa48_2015 = \"SA48nrt_2015.plot\"\n",
    "file_sa46_2015 = \"SA46nrt_2015.plot\"\n",
    "file_p014_2015 = \"P014nrt_2015.plot\"\n",
    "file_azam_2015 = \"AZAMnrt_2015.plot\"\n",
    "#2016\n",
    "file_kitt_2016 = \"KITTnrt_2016.plot.txt\"\n",
    "file_sa46_2016 = \"SA46nrt_2016.plot.txt\"\n",
    "file_p014_2016 = \"P014nrt_2016.plot.txt\""
   ]
  },
  {
   "cell_type": "code",
   "execution_count": 106,
   "metadata": {
    "collapsed": false
   },
   "outputs": [],
   "source": [
    "#group data by year\n",
    "all_data_2014 = (file_sa48_2014, file_sa46_2014, file_p014_2014)\n",
    "all_data_2015 = (file_kitt_2015, file_sa48_2015, file_sa46_2015, file_p014_2015, file_azam_2015)\n",
    "all_data_2016= (file_kitt_2016, file_sa46_2016, file_p014_2016)\n"
   ]
  },
  {
   "cell_type": "code",
   "execution_count": 8,
   "metadata": {
    "collapsed": false
   },
   "outputs": [],
   "source": [
    "def get_data(array_files):\n",
    "    \"\"\"\n",
    "    use np.genfromtxt to retrieve data from an array of files\n",
    "    expects files generated from suominet\n",
    "    \n",
    "    Input : array of files, generally one from each location\n",
    "    Output: list of arrays with noted columns\n",
    "    \"\"\"\n",
    "    \n",
    "    data = [np.genfromtxt(fil, usecols=(1,2,7,8,9), names=('date', 'pwv', 'pres', 'temp', 'hum'),\n",
    "                          dtype=((np.str_, 16), float, float, float, float)) for fil in array_files]\n",
    "    \n",
    "    return data"
   ]
  },
  {
   "cell_type": "code",
   "execution_count": 10,
   "metadata": {
    "collapsed": true
   },
   "outputs": [],
   "source": [
    "def get_date_array(data):\n",
    "    \"\"\"\n",
    "    Construct a sorted list of unique dates from an input list of \n",
    "    a data table for each site.\n",
    "    \n",
    "    Input: data - array of data for sites\n",
    "    Output: list of date & times expressed in MJD\n",
    "    \"\"\"\n",
    "    \n",
    "    datetimes = np.concatenate([site_data['date'] for site_data in data])\n",
    "    #[site_data['date'] for site_data in data] is a list of arrays each having\n",
    "    #only the datetime info; np.concatenate combines these into a single array\n",
    "    \n",
    "    unique_datetimes = np.unique(datetimes)\n",
    "    mjd = [Time(t, format='isot').mjd for t in unique_datetimes]\n",
    "    \n",
    "    return sorted(mjd)"
   ]
  },
  {
   "cell_type": "code",
   "execution_count": 81,
   "metadata": {
    "collapsed": true
   },
   "outputs": [],
   "source": [
    "def test_get_date_array():\n",
    "    \"\"\"\n",
    "    Ensuring get_date_array works properly\n",
    "    \"\"\"\n",
    "    \n",
    "    sample = get_data(data_2014)\n",
    "    \n",
    "    rand = np.random.random_integers(0, 50, 10) #to ensure some dates overlap\n",
    "    \n",
    "    sample_sa48 = sample[0][rand]\n",
    "    sample_sa46 = sample[1][rand]\n",
    "    \n",
    "    ##from this point on, code for get_date_array: \n",
    "    \n",
    "    data = [sample_sa48, sample_sa46]\n",
    "    \n",
    "    datetimes = np.array([site_data['date'] for site_data in data])\n",
    "\n",
    "    unique_datetimes = []\n",
    "    for site_datetimes in datetimes:\n",
    "        site_unique = np.unique(site_datetimes)\n",
    "        unique_datetimes = np.append(unique_datetimes, site_unique)\n",
    "    \n",
    "    unique_datetimes_final = np.unique(unique_datetimes)\n",
    "    mjd = [Time(t, format = 'isot').mjd for t in unique_datetimes_final]\n",
    "\n",
    "    return sorted(unique_datetimes_final),  sample_sa48['date'], sample_sa46['date']\n",
    "    \n",
    "    "
   ]
  },
  {
   "cell_type": "code",
   "execution_count": 14,
   "metadata": {
    "collapsed": true
   },
   "outputs": [],
   "source": [
    "def create_mask_new(data):\n",
    "    \"\"\"\n",
    "    Set up mask, pad values so that all arrays are matching in length \n",
    "    and time stamps\n",
    "    \n",
    "    Input: data - array of data for sites\n",
    "    Output: list of arrays of 0 = not masked, 1 = masked for each possible time at each data site\n",
    "    \"\"\" \n",
    "    all_dates = get_date_array(data)\n",
    "    \n",
    "    full_mask = np.zeros((len(data), len(all_dates)), dtype=int)\n",
    "    site_num = 0\n",
    "    \n",
    "    for site in range(len(data)):\n",
    "\n",
    "        mask = [] \n",
    "        pwv_list = []\n",
    "        site_times = [Time(data[site][time][0], format = 'isot').mjd for time in range(len(data[site]))] \n",
    "\n",
    "        for date in all_dates:\n",
    "            if date in site_times: \n",
    "                mask.append(0)\n",
    "                pwv_list.append()\n",
    "            else:\n",
    "                mask.append(1)\n",
    "\n",
    "        full_mask[site_num] = mask\n",
    "        site_num += 1      \n",
    "   \n",
    "    return full_mask"
   ]
  },
  {
   "cell_type": "code",
   "execution_count": 18,
   "metadata": {
    "collapsed": false
   },
   "outputs": [],
   "source": [
    "def mask_bad_vals(data):\n",
    "    \"\"\"\n",
    "    Build on input data mask, by \n",
    "    masking times where pwv < 0\n",
    "    \n",
    "    Input: data - list of array of data for each site\n",
    "    Output: list of mask array with bad values masked for each site\n",
    "    \"\"\"\n",
    "    \n",
    "    mask = create_mask_new(data) #get list of 3 arrays containing all zeros\n",
    "    new_mask = []\n",
    "\n",
    "    for i, site_data in enumerate(data):\n",
    "        site_mask = mask[i] #get mask for the current site\n",
    "        \n",
    "        for i2, entry in enumerate(site_data):\n",
    "            if entry['pwv'] < 0 or entry['pres'] == 767.0:\n",
    "                site_mask[i2] = 1\n",
    "        new_mask.append(site_mask)\n",
    "        \n",
    "    return new_mask"
   ]
  },
  {
   "cell_type": "code",
   "execution_count": 84,
   "metadata": {
    "collapsed": false
   },
   "outputs": [],
   "source": [
    "def create_fit_functions():\n",
    "    \"\"\"\n",
    "    Creates a fitting function for each site provided\n",
    "    \n",
    "    Input: data - array of data for sites (use data in year with kpno data)\n",
    "    Output: fit function for each site \n",
    "    \"\"\"\n",
    "    data_2015 = get_data(all_data_2015)\n",
    "    masks_2015 = mask_bad_vals(data_2015)\n",
    "    kitt_mask_2015 = masks_2015[0]\n",
    "    fit_functions = []\n",
    "    #for x in range(1, len(data)):\n",
    "    \n",
    "    for i, site_data in enumerate(data_2015):\n",
    "        if i > 0:\n",
    "            current_pwv = data_2015[i]['pwv']\n",
    "            current_kitt = data_2015[0]['pwv']\n",
    "            current_mask = masks_2015[i]\n",
    "            current_site_data = []\n",
    "            kitt_data = []\n",
    "            for i2, entry in enumerate(current_mask):\n",
    "                if i2 < 10000:\n",
    "                    if entry == 0 and kitt_mask_2015[i2] == 0:\n",
    "                        current_site_data.append(current_pwv[i2])\n",
    "                        kitt_data.append(current_kitt[i2])\n",
    "            fit = np.polyfit(current_site_data, kitt_data, 1)\n",
    "            fit_functions.append(np.poly1d(fit))\n",
    "    \n",
    "    return fit_functions\n",
    "               \n",
    "                    \n",
    "        \n",
    "            #site_time_mask = create_mask_new(current_data)\n",
    "            \n",
    "\n",
    "    \"\"\"for i2, entry in enumerate(site_mask):\n",
    "                if entry == 0:\n",
    "                    if kitt_mask_2015[i2] == 0:\n",
    "                        new_data = site_data[i2]['pwv']\n",
    "                        #good_data_site.append(data_2015[i][i2]['pwv'])\n",
    "                        print new_data\n",
    "                #if entry == 0: \n",
    "                 #   good_data_site.append(data_2015[i][i2]['pwv'])\n",
    "                  #  good_data_kitt.append(data_2015[0][i2]['pwv'])\n",
    "            #fit = (np.polyfit(good_data_site, good_data_kpno, 1))\n",
    "            #fit_functions.append(np.poly1d(fit))\n",
    "    return fit_functions\"\"\""
   ]
  },
  {
   "cell_type": "code",
   "execution_count": 107,
   "metadata": {
    "collapsed": false
   },
   "outputs": [],
   "source": [
    "data_2015 = get_data(all_data_2015)"
   ]
  },
  {
   "cell_type": "code",
   "execution_count": 11,
   "metadata": {
    "collapsed": false
   },
   "outputs": [],
   "source": [
    "date_array_2014 = get_date_array(data_2014)"
   ]
  },
  {
   "cell_type": "code",
   "execution_count": 15,
   "metadata": {
    "collapsed": false
   },
   "outputs": [],
   "source": [
    "new_mask = create_mask_new(data_2014)"
   ]
  },
  {
   "cell_type": "code",
   "execution_count": 108,
   "metadata": {
    "collapsed": false
   },
   "outputs": [],
   "source": [
    "masked_2014 = mask_bad_vals(data_2014)"
   ]
  },
  {
   "cell_type": "code",
   "execution_count": 109,
   "metadata": {
    "collapsed": false
   },
   "outputs": [],
   "source": [
    "fit_fncs = create_fit_functions()"
   ]
  },
  {
   "cell_type": "code",
   "execution_count": 114,
   "metadata": {
    "collapsed": false
   },
   "outputs": [
    {
     "data": {
      "image/png": "[encoded data removed]",
      "text/plain": [
       "<matplotlib.figure.Figure at 0xe88b2b0>"
      ]
     },
     "metadata": {},
     "output_type": "display_data"
    }
   ],
   "source": [
    "plt.plot(fit_fncs[0], label='SA48')\n",
    "plt.plot(fit_fncs[1], label='SA46')\n",
    "plt.plot(fit_fncs[2], label='P014')\n",
    "plt.plot(fit_fncs[3], label='AZAM')\n",
    "plt.legend(loc='best')\n",
    "plt.title('Fit functions')\n",
    "plt.savefig('fit_functions.pdf')"
   ]
  },
  {
   "cell_type": "code",
   "execution_count": 91,
   "metadata": {
    "collapsed": true
   },
   "outputs": [],
   "source": [
    "np.polyfit?"
   ]
  },
  {
   "cell_type": "code",
   "execution_count": 98,
   "metadata": {
    "collapsed": false
   },
   "outputs": [],
   "source": [
    "#plt.plot(data_2015[0]['date'], data_2015[0]['pwv'])\n",
    "\n",
    "residual_sa48 = data_2015[0]['pwv'] - fit_fncs[1](data_2015[1]['pwv'])"
   ]
  },
  {
   "cell_type": "code",
   "execution_count": 105,
   "metadata": {
    "collapsed": false
   },
   "outputs": [
    {
     "data": {
      "image/png": "[encoded data removed]",
      "text/plain": [
       "<matplotlib.figure.Figure at 0xd9cb080>"
      ]
     },
     "metadata": {},
     "output_type": "display_data"
    }
   ],
   "source": [
    "plt.plot(data_2015[0]['pwv'], residual_sa48, 'o', alpha=0.1)\n",
    "plt.xlim(-5, 55)\n",
    "plt.xlabel('Actual KPNO PWV [mm]')\n",
    "plt.ylabel('SA48-KPNO [mm]')\n",
    "plt.title('Residual Plot, SA48')\n",
    "plt.savefig('residual_sa48.pdf')"
   ]
  },
  {
   "cell_type": "code",
   "execution_count": null,
   "metadata": {
    "collapsed": true
   },
   "outputs": [],
   "source": [
    "residual_sa48 = data_2015[0]['pwv'] - fit_fncs[1](data_2015[1]['pwv'])"
   ]
  }
 ],
 "metadata": {
  "kernelspec": {
   "display_name": "Python 2",
   "language": "python",
   "name": "python2"
  },
  "language_info": {
   "codemirror_mode": {
    "name": "ipython",
    "version": 2
   },
   "file_extension": ".py",
   "mimetype": "text/x-python",
   "name": "python",
   "nbconvert_exporter": "python",
   "pygments_lexer": "ipython2",
   "version": "2.7.10"
  }
 },
 "nbformat": 4,
 "nbformat_minor": 0
}
