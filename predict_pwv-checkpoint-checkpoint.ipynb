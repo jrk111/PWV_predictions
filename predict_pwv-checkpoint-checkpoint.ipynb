{
 "cells": [
  {
   "cell_type": "code",
   "execution_count": 1,
   "metadata": {
    "collapsed": false
   },
   "outputs": [],
   "source": [
    "import os.path\n",
    "import numpy as np\n",
    "import matplotlib.pyplot as plt\n",
    "import astropy\n",
    "from astropy.time import Time \n",
    "from astropy.time import TimeISOT\n",
    "%matplotlib inline"
   ]
  },
  {
   "cell_type": "code",
   "execution_count": 2,
   "metadata": {
    "collapsed": true
   },
   "outputs": [],
   "source": [
    "##gather data\n",
    "\n",
    "#2014\n",
    "file_sa48_2014 = \"SA48nrt_2014.plot\"\n",
    "file_sa46_2014 = \"SA46nrt_2014.plot\"\n",
    "file_p014_2014 = \"P014nrt_2014.plot\"\n",
    "#2015\n",
    "file_kitt_2015 = \"KITTnrt_2015.plot\"\n",
    "file_sa48_2015 = \"SA48nrt_2015.plot\"\n",
    "file_sa46_2015 = \"SA46nrt_2015.plot\"\n",
    "file_p014_2015 = \"P014nrt_2015.plot\"\n",
    "file_azam_2015 = \"AZAMnrt_2015.plot\"\n",
    "#2016\n",
    "file_kitt_2016 = \"KITTnrt_2016.plot.txt\"\n",
    "file_sa46_2016 = \"SA46nrt_2016.plot.txt\"\n",
    "file_p014_2016 = \"P014nrt_2016.plot.txt\""
   ]
  },
  {
   "cell_type": "code",
   "execution_count": 3,
   "metadata": {
    "collapsed": false
   },
   "outputs": [],
   "source": [
    "#group data by year\n",
    "all_data_2014 = (file_sa48_2014, file_sa46_2014, file_p014_2014)\n",
    "all_data_2015 = (file_kitt_2015, file_sa48_2015, file_sa46_2015, file_p014_2015, file_azam_2015)\n",
    "all_data_2016= (file_kitt_2016, file_sa46_2016, file_p014_2016)\n"
   ]
  },
  {
   "cell_type": "code",
   "execution_count": 10,
   "metadata": {
    "collapsed": false
   },
   "outputs": [],
   "source": [
    "def get_data(array_files):\n",
    "    \"\"\"\n",
    "    use np.genfromtxt to retrieve data from an array of files\n",
    "    expects files generated from suominet\n",
    "    \n",
    "    Input : array of files, generally one from each location\n",
    "    Output: list of arrays with noted columns\n",
    "    \"\"\"\n",
    "    \n",
    "    data = [np.genfromtxt(fil, usecols=(1,2,7,8,9), names=('date', 'pwv', 'pres', 'temp', 'hum'),\n",
    "                          dtype=((np.str_, 16), float, float, float, float)) for fil in array_files]\n",
    "    \n",
    "    for i,site in enumerate(data):\n",
    "        data[i] = np.unique(site)\n",
    "    \n",
    "    return data"
   ]
  },
  {
   "cell_type": "code",
   "execution_count": 11,
   "metadata": {
    "collapsed": false
   },
   "outputs": [
    {
     "data": {
      "text/plain": [
       "[array([('2014-01-01T00:15', 7.9, 933.7, 16.4, 28.5),\n",
       "        ('2014-01-01T00:45', 7.6, 933.8, 15.3, 30.6),\n",
       "        ('2014-01-01T01:15', 7.3, 934.0, 13.4, 35.5), ...,\n",
       "        ('2014-12-31T22:15', 10.3, 928.2, 5.9, 92.7),\n",
       "        ('2014-12-31T23:15', 9.6, 928.2, 6.0, 92.5),\n",
       "        ('2014-12-31T23:45', 11.3, 928.2, 5.9, 93.0)], \n",
       "       dtype=[('date', 'S16'), ('pwv', '<f8'), ('pres', '<f8'), ('temp', '<f8'), ('hum', '<f8')]),\n",
       " array([('2014-01-01T00:15', 7.1, 930.4, 18.2, 23.3),\n",
       "        ('2014-01-01T00:45', 7.4, 930.4, 17.4, 24.1),\n",
       "        ('2014-01-01T01:15', 6.8, 930.7, 15.9, 26.7), ...,\n",
       "        ('2014-12-31T21:15', 12.9, 924.7, 5.5, 85.1),\n",
       "        ('2014-12-31T22:15', 11.9, 925.0, 5.7, 85.6),\n",
       "        ('2014-12-31T23:15', 11.2, 925.2, 5.7, 84.4)], \n",
       "       dtype=[('date', 'S16'), ('pwv', '<f8'), ('pres', '<f8'), ('temp', '<f8'), ('hum', '<f8')]),\n",
       " array([('2014-01-01T04:15', 6.9, 895.3, 12.0, 27.8),\n",
       "        ('2014-01-01T04:45', 7.4, 895.3, 10.6, 30.8),\n",
       "        ('2014-01-01T08:15', 7.2, 894.7, 9.1, 33.6), ...,\n",
       "        ('2014-12-31T08:45', 4.6, 887.4, 11.1, 21.6),\n",
       "        ('2014-12-31T22:15', 11.6, 887.2, 4.1, 91.1),\n",
       "        ('2014-12-31T22:45', 11.9, 887.3, 4.0, 91.2)], \n",
       "       dtype=[('date', 'S16'), ('pwv', '<f8'), ('pres', '<f8'), ('temp', '<f8'), ('hum', '<f8')])]"
      ]
     },
     "execution_count": 11,
     "metadata": {},
     "output_type": "execute_result"
    }
   ],
   "source": [
    "get_data(all_data_2014)"
   ]
  },
  {
   "cell_type": "code",
   "execution_count": 15,
   "metadata": {
    "collapsed": true
   },
   "outputs": [],
   "source": [
    "def get_date_array(data):\n",
    "    \"\"\"\n",
    "    Construct a sorted list of unique dates from an input list of \n",
    "    a data table for each site.\n",
    "    \n",
    "    Input: data - array of data for sites\n",
    "    Output: list of date & times expressed in MJD\n",
    "    \"\"\"\n",
    "    \n",
    "    datetimes = np.concatenate([site_data['date'] for site_data in data])\n",
    "    \n",
    "    #[site_data['date'] for site_data in data] is a list of arrays each having\n",
    "    #only the datetime info; np.concatenate combines these into a single array\n",
    "    \n",
    "    unique_datetimes = np.unique(datetimes)\n",
    "    mjd = [Time(t, format='isot').mjd for t in unique_datetimes]\n",
    "    \n",
    "    return sorted(mjd)"
   ]
  },
  {
   "cell_type": "code",
   "execution_count": 81,
   "metadata": {
    "collapsed": true
   },
   "outputs": [],
   "source": [
    "def test_get_date_array():\n",
    "    \"\"\"\n",
    "    Ensuring get_date_array works properly\n",
    "    \"\"\"\n",
    "    \n",
    "    sample = get_data(data_2014)\n",
    "    \n",
    "    rand = np.random.random_integers(0, 50, 10) #to ensure some dates overlap\n",
    "    \n",
    "    sample_sa48 = sample[0][rand]\n",
    "    sample_sa46 = sample[1][rand]\n",
    "    \n",
    "    ##from this point on, code for get_date_array: \n",
    "    \n",
    "    data = [sample_sa48, sample_sa46]\n",
    "    \n",
    "    datetimes = np.array([site_data['date'] for site_data in data])\n",
    "\n",
    "    unique_datetimes = []\n",
    "    for site_datetimes in datetimes:\n",
    "        site_unique = np.unique(site_datetimes)\n",
    "        unique_datetimes = np.append(unique_datetimes, site_unique)\n",
    "    \n",
    "    unique_datetimes_final = np.unique(unique_datetimes)\n",
    "    mjd = [Time(t, format = 'isot').mjd for t in unique_datetimes_final]\n",
    "\n",
    "    return sorted(unique_datetimes_final),  sample_sa48['date'], sample_sa46['date']\n",
    "    \n",
    "    "
   ]
  },
  {
   "cell_type": "code",
   "execution_count": 16,
   "metadata": {
    "collapsed": false
   },
   "outputs": [],
   "source": [
    "def create_mask_new(data):\n",
    "    \"\"\"\n",
    "    Set up mask, pad values so that all arrays are matching in length \n",
    "    and time stamps\n",
    "    \n",
    "    Input: data - array of data for sites\n",
    "    Output: list of arrays of 0 = not masked, 1 = masked for each possible time at each data site;\n",
    "            list of arrays of associated pwv for each time, where data are available\n",
    "    \"\"\" \n",
    "    all_dates = get_date_array(data)\n",
    "    \n",
    "    full_mask = np.zeros((len(data), len(all_dates)), dtype=int)\n",
    "    full_pwv = []\n",
    "    site_num = 0\n",
    "    \n",
    "    for site in range(len(data)):\n",
    "\n",
    "        mask = [] \n",
    "        pwv_list = []\n",
    "        site_times = [Time(data[site][time][0], format = 'isot').mjd for time in range(len(data[site]))] \n",
    "\n",
    "        for date in all_dates:\n",
    "            if date in site_times: \n",
    "                mask.append(0)\n",
    "                time = Time(date, format='mjd').isot[:-7]\n",
    "                ind= np.where(data[site]['date'] == time)\n",
    "                pwv = data[site][ind]['pwv']\n",
    "                if len(pwv) > 1:\n",
    "                    #pwv_list.append(pwv[1])\n",
    "                    print pwv, time\n",
    "                #if len(pwv) == 1:   #eliminate cases where multiple values are found\n",
    "                 #   pwv_list.append(np.asscalar(pwv))\n",
    "                else:\n",
    "                    pwv_list.append(1)\n",
    "            else:\n",
    "                mask.append(1)\n",
    "                pwv_list.append(1)\n",
    "        \n",
    "        full_mask[site_num] = mask\n",
    "        full_pwv.append(pwv_list)\n",
    "        site_num += 1      \n",
    "\n",
    "    return full_mask, full_pwv"
   ]
  },
  {
   "cell_type": "code",
   "execution_count": 17,
   "metadata": {
    "collapsed": false
   },
   "outputs": [
    {
     "ename": "TypeError",
     "evalue": "string indices must be integers, not str",
     "output_type": "error",
     "traceback": [
      "\u001b[1;31m---------------------------------------------------------------------------\u001b[0m",
      "\u001b[1;31mTypeError\u001b[0m                                 Traceback (most recent call last)",
      "\u001b[1;32m<ipython-input-17-be80d151430a>\u001b[0m in \u001b[0;36m<module>\u001b[1;34m()\u001b[0m\n\u001b[1;32m----> 1\u001b[1;33m \u001b[0mnew_mask\u001b[0m\u001b[1;33m,\u001b[0m \u001b[0mpwv\u001b[0m \u001b[1;33m=\u001b[0m \u001b[0mcreate_mask_new\u001b[0m\u001b[1;33m(\u001b[0m\u001b[0mall_data_2014\u001b[0m\u001b[1;33m)\u001b[0m\u001b[1;33m\u001b[0m\u001b[0m\n\u001b[0m",
      "\u001b[1;32m<ipython-input-16-ba0f59fadb73>\u001b[0m in \u001b[0;36mcreate_mask_new\u001b[1;34m(data)\u001b[0m\n\u001b[0;32m      8\u001b[0m             \u001b[0mlist\u001b[0m \u001b[0mof\u001b[0m \u001b[0marrays\u001b[0m \u001b[0mof\u001b[0m \u001b[0massociated\u001b[0m \u001b[0mpwv\u001b[0m \u001b[1;32mfor\u001b[0m \u001b[0meach\u001b[0m \u001b[0mtime\u001b[0m\u001b[1;33m,\u001b[0m \u001b[0mwhere\u001b[0m \u001b[0mdata\u001b[0m \u001b[0mare\u001b[0m \u001b[0mavailable\u001b[0m\u001b[1;33m\u001b[0m\u001b[0m\n\u001b[0;32m      9\u001b[0m     \"\"\" \n\u001b[1;32m---> 10\u001b[1;33m     \u001b[0mall_dates\u001b[0m \u001b[1;33m=\u001b[0m \u001b[0mget_date_array\u001b[0m\u001b[1;33m(\u001b[0m\u001b[0mdata\u001b[0m\u001b[1;33m)\u001b[0m\u001b[1;33m\u001b[0m\u001b[0m\n\u001b[0m\u001b[0;32m     11\u001b[0m \u001b[1;33m\u001b[0m\u001b[0m\n\u001b[0;32m     12\u001b[0m     \u001b[0mfull_mask\u001b[0m \u001b[1;33m=\u001b[0m \u001b[0mnp\u001b[0m\u001b[1;33m.\u001b[0m\u001b[0mzeros\u001b[0m\u001b[1;33m(\u001b[0m\u001b[1;33m(\u001b[0m\u001b[0mlen\u001b[0m\u001b[1;33m(\u001b[0m\u001b[0mdata\u001b[0m\u001b[1;33m)\u001b[0m\u001b[1;33m,\u001b[0m \u001b[0mlen\u001b[0m\u001b[1;33m(\u001b[0m\u001b[0mall_dates\u001b[0m\u001b[1;33m)\u001b[0m\u001b[1;33m)\u001b[0m\u001b[1;33m,\u001b[0m \u001b[0mdtype\u001b[0m\u001b[1;33m=\u001b[0m\u001b[0mint\u001b[0m\u001b[1;33m)\u001b[0m\u001b[1;33m\u001b[0m\u001b[0m\n",
      "\u001b[1;32m<ipython-input-15-d8171db3f4a8>\u001b[0m in \u001b[0;36mget_date_array\u001b[1;34m(data)\u001b[0m\n\u001b[0;32m      8\u001b[0m     \"\"\"\n\u001b[0;32m      9\u001b[0m \u001b[1;33m\u001b[0m\u001b[0m\n\u001b[1;32m---> 10\u001b[1;33m     \u001b[0mdatetimes\u001b[0m \u001b[1;33m=\u001b[0m \u001b[0mnp\u001b[0m\u001b[1;33m.\u001b[0m\u001b[0mconcatenate\u001b[0m\u001b[1;33m(\u001b[0m\u001b[1;33m[\u001b[0m\u001b[0mint\u001b[0m\u001b[1;33m(\u001b[0m\u001b[0msite_data\u001b[0m\u001b[1;33m[\u001b[0m\u001b[1;34m'date'\u001b[0m\u001b[1;33m]\u001b[0m\u001b[1;33m)\u001b[0m \u001b[1;32mfor\u001b[0m \u001b[0msite_data\u001b[0m \u001b[1;32min\u001b[0m \u001b[0mdata\u001b[0m\u001b[1;33m]\u001b[0m\u001b[1;33m)\u001b[0m\u001b[1;33m\u001b[0m\u001b[0m\n\u001b[0m\u001b[0;32m     11\u001b[0m \u001b[1;33m\u001b[0m\u001b[0m\n\u001b[0;32m     12\u001b[0m     \u001b[1;31m#[site_data['date'] for site_data in data] is a list of arrays each having\u001b[0m\u001b[1;33m\u001b[0m\u001b[1;33m\u001b[0m\u001b[0m\n",
      "\u001b[1;31mTypeError\u001b[0m: string indices must be integers, not str"
     ]
    }
   ],
   "source": [
    "new_mask, pwv = create_mask_new(all_data_2014)"
   ]
  },
  {
   "cell_type": "code",
   "execution_count": 242,
   "metadata": {
    "collapsed": false
   },
   "outputs": [],
   "source": [
    "def mask_bad_vals(data):\n",
    "    \"\"\"\n",
    "    Build on input data mask, by \n",
    "    masking times where pwv < 0\n",
    "    \n",
    "    Input: data - list of array of data for each site\n",
    "    Output: list of mask array with bad values masked for each site\n",
    "    \"\"\"\n",
    "    \n",
    "    mask, pwv = create_mask_new(data) #get list of 3 arrays containing all zeros\n",
    "    new_mask = []\n",
    "\n",
    "    for i, site_data in enumerate(data):\n",
    "        site_mask = mask[i] #get mask for the current site\n",
    "        \n",
    "        for i2, entry in enumerate(site_data):\n",
    "            if entry['pwv'] < 0 or entry['pres'] == 767.0:\n",
    "                site_mask[i2] = 1\n",
    "        new_mask.append(site_mask)\n",
    "        \n",
    "    return new_mask, pwv"
   ]
  },
  {
   "cell_type": "code",
   "execution_count": 243,
   "metadata": {
    "collapsed": false
   },
   "outputs": [],
   "source": [
    "def create_fit_functions():\n",
    "    \"\"\"\n",
    "    Creates a fitting function for each site provided\n",
    "    \n",
    "    Input: data - array of data for sites (use data in year with kpno data)\n",
    "    Output: fit function for each site \n",
    "    \"\"\"\n",
    "    data_2015 = get_data(all_data_2015)\n",
    "    masks_2015, pwv = mask_bad_vals(data_2015)\n",
    "    kitt_mask_2015 = masks_2015[0]\n",
    "    fit_functions = []\n",
    "\n",
    "    \n",
    "    for i, site_data in enumerate(data_2015):\n",
    "        if i > 0:\n",
    "            current_mask = masks_2015[i]\n",
    "            current_site_data = []\n",
    "            kitt_data = []\n",
    "            for i2, entry in enumerate(current_mask):\n",
    "                    if entry == 0 and kitt_mask_2015[i2] == 0:\n",
    "                        current_site_data.append(pwv[i][i2])\n",
    "                        kitt_data.append(pwv[0][i2])\n",
    "            fit = np.polyfit(current_site_data, kitt_data, 1)\n",
    "            fit_functions.append(np.poly1d(fit))\n",
    "    \n",
    "    return fit_functions\n",
    "               "
   ]
  },
  {
   "cell_type": "code",
   "execution_count": 244,
   "metadata": {
    "collapsed": false
   },
   "outputs": [],
   "source": [
    "data_2015 = get_data(all_data_2015)"
   ]
  },
  {
   "cell_type": "code",
   "execution_count": 11,
   "metadata": {
    "collapsed": false
   },
   "outputs": [],
   "source": [
    "date_array_2014 = get_date_array(data_2014)"
   ]
  },
  {
   "cell_type": "code",
   "execution_count": 108,
   "metadata": {
    "collapsed": false
   },
   "outputs": [],
   "source": [
    "masked_2014 = mask_bad_vals(data_2014)"
   ]
  },
  {
   "cell_type": "code",
   "execution_count": 245,
   "metadata": {
    "collapsed": false
   },
   "outputs": [],
   "source": [
    "fit_fncs = create_fit_functions()"
   ]
  },
  {
   "cell_type": "code",
   "execution_count": 254,
   "metadata": {
    "collapsed": false
   },
   "outputs": [
    {
     "name": "stdout",
     "output_type": "stream",
     "text": [
      " \n",
      "0.4481 x - 3.165\n",
      " \n",
      "0.4404 x - 2.964\n",
      " \n",
      "0.4072 x - 0.5631\n",
      " \n",
      "0.3843 x - 0.2435\n"
     ]
    }
   ],
   "source": [
    "print fit_fncs[0]\n",
    "print fit_fncs[1]\n",
    "print fit_fncs[2]\n",
    "print fit_fncs[3]"
   ]
  },
  {
   "cell_type": "code",
   "execution_count": 246,
   "metadata": {
    "collapsed": false
   },
   "outputs": [
    {
     "data": {
      "image/png": "[encoded data removed]",
      "text/plain": [
       "<matplotlib.figure.Figure at 0x108e8908>"
      ]
     },
     "metadata": {},
     "output_type": "display_data"
    }
   ],
   "source": [
    "plt.plot(fit_fncs[0], label='SA48')\n",
    "plt.plot(fit_fncs[1], label='SA46')\n",
    "plt.plot(fit_fncs[2], label='P014')\n",
    "plt.plot(fit_fncs[3], label='AZAM')\n",
    "plt.legend(loc='best')\n",
    "plt.title('Fit functions')\n",
    "plt.savefig('fit_functions.pdf')"
   ]
  },
  {
   "cell_type": "code",
   "execution_count": 91,
   "metadata": {
    "collapsed": true
   },
   "outputs": [],
   "source": [
    "np.polyfit?"
   ]
  },
  {
   "cell_type": "code",
   "execution_count": 248,
   "metadata": {
    "collapsed": false
   },
   "outputs": [],
   "source": [
    "#plt.plot(data_2015[0]['date'], data_2015[0]['pwv'])\n",
    "\n",
    "residual_sa48 = data_2015[0][0:11595]['pwv'] - fit_fncs[1](data_2015[1][0:11595]['pwv'])"
   ]
  },
  {
   "cell_type": "code",
   "execution_count": 256,
   "metadata": {
    "collapsed": false
   },
   "outputs": [
    {
     "data": {
      "text/plain": [
       "<matplotlib.text.Text at 0xe721198>"
      ]
     },
     "execution_count": 256,
     "metadata": {},
     "output_type": "execute_result"
    },
    {
     "data": {
      "image/png": "[encoded data removed]",
      "text/plain": [
       "<matplotlib.figure.Figure at 0xbdb05f8>"
      ]
     },
     "metadata": {},
     "output_type": "display_data"
    }
   ],
   "source": [
    "plt.plot(residual_sa48, data_2015[0][0:11595]['pwv'], 'o', alpha=0.2)\n",
    "plt.ylim(-5, 35)\n",
    "plt.xlabel('SA48-KPNO [mm]')\n",
    "plt.ylabel('Actual KPNO PWV [mm]')\n",
    "plt.title('Residual Plot, SA48')\n",
    "#plt.savefig('residual_sa48.pdf')"
   ]
  },
  {
   "cell_type": "code",
   "execution_count": null,
   "metadata": {
    "collapsed": true
   },
   "outputs": [],
   "source": [
    "residual_sa48 = data_2015[0]['pwv'] - fit_fncs[1](data_2015[1]['pwv'])"
   ]
  }
 ],
 "metadata": {
  "kernelspec": {
   "display_name": "Python 2",
   "language": "python",
   "name": "python2"
  },
  "language_info": {
   "codemirror_mode": {
    "name": "ipython",
    "version": 2
   },
   "file_extension": ".py",
   "mimetype": "text/x-python",
   "name": "python",
   "nbconvert_exporter": "python",
   "pygments_lexer": "ipython2",
   "version": "2.7.10"
  }
 },
 "nbformat": 4,
 "nbformat_minor": 0
}
